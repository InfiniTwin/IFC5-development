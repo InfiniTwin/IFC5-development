{
 "cells": [
  {
   "cell_type": "code",
   "execution_count": null,
   "metadata": {},
   "outputs": [],
   "source": [
    "import json\n",
    "\n",
    "from pyproj import CRS, Transformer\n",
    "from specklepy.api.client import SpeckleClient\n",
    "from specklepy.core.api import operations\n",
    "from specklepy.transports.server import ServerTransport"
   ]
  },
  {
   "cell_type": "markdown",
   "metadata": {},
   "source": [
    "# Leapfrog Weka Hills Demo Model from Speckle to IFC 5"
   ]
  },
  {
   "cell_type": "code",
   "execution_count": null,
   "metadata": {},
   "outputs": [],
   "source": [
    "weka_hills_speckle_project_id = \"7a489ac0d4\"\n",
    "ifc5_geo_dict = {\"name\": \"Alluvium\", \"ifc5_ref\": \"Ne4ef1ea1101a484183bb8a716924702e\"}\n",
    "# ifc5_geo_dict = {\"name\": \"Siltstone\", \"ifc5_ref\": \"N4586ef982fd34faab3de532a7a43544d\"}\n",
    "# ifc5_geo_dict = {\"name\": \"Basement\", \"ifc5_ref\": \"N450a532f5e414d609856a8a50b6a94ad\"}"
   ]
  },
  {
   "cell_type": "code",
   "execution_count": null,
   "metadata": {},
   "outputs": [],
   "source": [
    "speckle_client = SpeckleClient(host=\"app.speckle.systems\")\n",
    "transport = ServerTransport(\n",
    "    stream_id=weka_hills_speckle_project_id, client=speckle_client\n",
    ")"
   ]
  },
  {
   "cell_type": "code",
   "execution_count": null,
   "metadata": {},
   "outputs": [],
   "source": [
    "weka_hills_speckle_models = speckle_client.model.get_models(\n",
    "    project_id=weka_hills_speckle_project_id\n",
    ")\n",
    "\n",
    "geology_models_w_versions = {}\n",
    "for model in weka_hills_speckle_models.items:\n",
    "    if \"geo/geology-model\" in model.name:\n",
    "        geological_unit = str(model.name).replace(\"geo/geology-model/\", \"\")\n",
    "        speckle_model = speckle_client.model.get_with_versions(\n",
    "            model_id=model.id,\n",
    "            project_id=weka_hills_speckle_project_id,\n",
    "        )\n",
    "        geology_models_w_versions[geological_unit] = speckle_model\n",
    "        print(f\"{geological_unit}: {model.id}\")"
   ]
  },
  {
   "cell_type": "code",
   "execution_count": null,
   "metadata": {},
   "outputs": [],
   "source": [
    "model_data = operations.receive(\n",
    "    geology_models_w_versions[ifc5_geo_dict[\"name\"].lower()]\n",
    "    .versions.items[0]\n",
    "    .referencedObject,\n",
    "    transport,\n",
    ")"
   ]
  },
  {
   "cell_type": "code",
   "execution_count": null,
   "metadata": {},
   "outputs": [],
   "source": [
    "speckle_faces = model_data.elements[0].elements[0].elements[0].elements[0].faces\n",
    "face_vertex_counts = []\n",
    "face_vertex_indices = []\n",
    "i = 0\n",
    "while i < len(speckle_faces):\n",
    "    vertex_count = speckle_faces[i]\n",
    "    face_vertex_counts.append(vertex_count)\n",
    "    face_vertex_indices.extend(speckle_faces[i + 1 : i + 1 + vertex_count])\n",
    "    i += 1 + vertex_count\n",
    "\n",
    "speckle_vertices = model_data.elements[0].elements[0].elements[0].elements[0].vertices\n",
    "points = [speckle_vertices[i : i + 3] for i in range(0, len(speckle_vertices), 3)]"
   ]
  },
  {
   "cell_type": "code",
   "execution_count": null,
   "metadata": {},
   "outputs": [],
   "source": [
    "ifc5_usdgeom = [\n",
    "    {\n",
    "        \"def\": \"over\",\n",
    "        \"name\": f\"{ifc5_geo_dict['ref']}_Body\",\n",
    "        \"attributes\": {\n",
    "            \"UsdGeom:Mesh\": {\n",
    "                # \"faceVertexCounts\": face_vertex_counts,\n",
    "                \"faceVertexIndices\": face_vertex_indices,\n",
    "                \"points\": points,\n",
    "            }\n",
    "        },\n",
    "    }\n",
    "]\n",
    "\n",
    "with open(\n",
    "    f\"WekaHills_GeologyModel_{ifc5_geo_dict['name']}_UsdGeom.ifcx\", \"w\"\n",
    ") as json_file:\n",
    "    json.dump(ifc5_usdgeom, json_file)"
   ]
  },
  {
   "cell_type": "markdown",
   "metadata": {},
   "source": [
    "For testing purposes, one can create an `.obj` file from the Speckle geometry as follows:"
   ]
  },
  {
   "cell_type": "code",
   "execution_count": null,
   "metadata": {},
   "outputs": [],
   "source": [
    "with open(f\"{geological_unit}Mesh.obj\", \"w\") as obj_file:\n",
    "    for point in points:\n",
    "        obj_file.write(f\"v {point[0]} {point[1]} {point[2]}\\n\")\n",
    "    for i in range(0, len(face_vertex_indices), 3):\n",
    "        # OBJ uses 1-based indexing, so add 1 to the indices\n",
    "        obj_file.write(\n",
    "            f\"f {face_vertex_indices[i] + 1} {face_vertex_indices[i + 1] + 1} {face_vertex_indices[i + 2] + 1}\\n\"\n",
    "        )"
   ]
  },
  {
   "cell_type": "markdown",
   "metadata": {},
   "source": [
    "# CRS Objects in IFC 5\n",
    "\n",
    "Coordinate Reference Systems (CRS') can be defined using the Well-Known Text representation of Coordinate Reference Systems (WKT-CRS | [Wikipedia](http://en.wikipedia.org/wiki/Well-known_text_representation_of_coordinate_reference_systems) | [OGC Specification](https://docs.ogc.org/is/18-010r7/18-010r7.html)). This representation of CRS' is also an ISO standard: ISO 19162:2019.\n",
    "\n",
    "Notes from the Wikipedia WKT-CRS \"Version history\" section:\n",
    "\n",
    ">  Confusingly, the original 2015 \"WKT 2\" standard has a version number 1 for the new, stricter WKT-CRS specification. A newer revision called WKT-CRS 2 was published in 2018, with the ISO version being ISO 19162:2019.\n",
    "\n",
    "> ESRI vs OGC  \n",
    "> ... some databases differentiate between \"OGC WKT\" and \"ESRI WKT\" representations. The problem is largely resolved in WKT[-CRS] 2, as it is better-defined.\n",
    "\n",
    "These differences in how WKT strings are also clear from the export section when looking up a CRS on [epsg.io](https://epsg.io). For example, have a look at the differences between the \"OGC WKT\", \"OGC WKT 2\" and \"ESRI WKT\" results in the export section at the bottom of the [epsg.io/2193](https://epsg.io/2193) page."
   ]
  },
  {
   "cell_type": "code",
   "execution_count": null,
   "metadata": {},
   "outputs": [],
   "source": [
    "weka_hills_crs = CRS(2193)"
   ]
  },
  {
   "cell_type": "code",
   "execution_count": null,
   "metadata": {},
   "outputs": [],
   "source": [
    "ifc5_wkt_crs = [\n",
    "    {\n",
    "        \"def\": \"def\",\n",
    "        \"name\": \"CRS_EPSG:2193\",\n",
    "        \"type\": \"OGC:CRS\",\n",
    "        \"attributes\": {\n",
    "            \"WKT-CRS\": {\n",
    "                \"ISO\": \"ISO 19162:2019\",\n",
    "                \"wkt\": weka_hills_crs.to_wkt(),\n",
    "                \"name\": weka_hills_crs.name,\n",
    "                \"authority_id\": f\"EPSG:{weka_hills_crs.to_authority()[1]}\",\n",
    "                \"units\": \"m\",\n",
    "                \"offset_x\": 0,\n",
    "                \"offset_y\": 0,\n",
    "                \"offset_z\": 0,\n",
    "                \"rotation\": 0,\n",
    "            }\n",
    "        },\n",
    "    },\n",
    "    {\n",
    "        \"def\": \"over\",\n",
    "        \"name\": \"Nad68cd145a6b43fdb0232e0b11a6c7bc\",\n",
    "        \"comment\": \"Assigns CRS_EPSG:2193 to the instance of borehole WH_009\",\n",
    "        \"attributes\": {\"crs\": {\"ref\": \"</CRS_EPSG:2193>\"}},\n",
    "    },\n",
    "    {\n",
    "        \"def\": \"over\",\n",
    "        \"name\": \"N996ff9e7b86240f898d4d038ab311d1b\",\n",
    "        \"comment\": \"Assigns CRS_EPSG:2193 to the instance of borehole WH_012\",\n",
    "        \"attributes\": {\"crs\": {\"ref\": \"</CRS_EPSG:2193>\"}},\n",
    "    },\n",
    "    {\n",
    "        \"def\": \"over\",\n",
    "        \"name\": \"N25dbbae886194be6b469e4f17f0b605c\",\n",
    "        \"comment\": \"Assigns CRS_EPSG:2193 to the instance of the GeologyModel\",\n",
    "        \"attributes\": {\"crs\": {\"ref\": \"</CRS_EPSG:2193>\"}},\n",
    "    },\n",
    "]\n",
    "\n",
    "with open(\"WekaHills_CRS_EPSG2193.ifcx\", \"w\") as json_file:\n",
    "    json.dump(ifc5_wkt_crs, json_file, indent=2)"
   ]
  },
  {
   "cell_type": "markdown",
   "metadata": {},
   "source": [
    "Longitude is the x-coordinate or east-west coordinate on earth expressed in 0 to 180 degrees east or west of the Greenwich prime meridian or in -180 to 180 degrees relative to the Greenwich prime meridian.\n",
    "\n",
    "Latitude is the y-coordinate or north-south coordinate on earth expressed in 0 to 90 north or south of the equator or in -90 to 90 degrees relative to the equator.\n",
    "\n",
    "Historically, coordinates on earth are denoted (Latitude, Longitude), because it was easier to determine the north-south position than the east-west position. This because the north-south position can be determined from the sun, stars and other heavenly bodies, whereas one need to accurately know the time in order to determine the east-west position.\n",
    "\n",
    "Nowadays, especially on the web, it's common to write coordinates on earth in [Longitude, Latitude], because we commonly write down coordinates [x, y]."
   ]
  },
  {
   "cell_type": "code",
   "execution_count": null,
   "metadata": {},
   "outputs": [],
   "source": [
    "transformer = Transformer.from_crs(weka_hills_crs, 4326, always_xy=True)\n",
    "custom_lon, custom_lat = transformer.transform(1166250.104, 4888836.859)\n",
    "custom_crs_wkt = f'PROJCS[\"SpeckleCRS_latlon_{custom_lat}_{custom_lon}\", GEOGCS[\"GCS_WGS_1984\", DATUM[\"D_WGS_1984\", SPHEROID[\"WGS_1984\", 6378137.0, 298.257223563]], PRIMEM[\"Greenwich\", 0.0], UNIT[\"Degree\", 0.0174532925199433]], PROJECTION[\"Transverse_Mercator\"], PARAMETER[\"False_Easting\", 0.0], PARAMETER[\"False_Northing\", 0.0], PARAMETER[\"Central_Meridian\", {custom_lon}], PARAMETER[\"Scale_Factor\", 1.0], PARAMETER[\"Latitude_Of_Origin\", {custom_lat}], UNIT[\"Meter\", 1.0]]'"
   ]
  }
 ],
 "metadata": {
  "kernelspec": {
   "display_name": ".venv",
   "language": "python",
   "name": "python3"
  },
  "language_info": {
   "codemirror_mode": {
    "name": "ipython",
    "version": 3
   },
   "file_extension": ".py",
   "mimetype": "text/x-python",
   "name": "python",
   "nbconvert_exporter": "python",
   "pygments_lexer": "ipython3",
   "version": "3.11.10"
  }
 },
 "nbformat": 4,
 "nbformat_minor": 2
}
