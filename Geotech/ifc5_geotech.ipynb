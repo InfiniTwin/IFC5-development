{
 "cells": [
  {
   "cell_type": "code",
   "execution_count": 1,
   "metadata": {},
   "outputs": [],
   "source": [
    "from pathlib import Path\n",
    "\n",
    "import geopandas as gpd"
   ]
  },
  {
   "cell_type": "code",
   "execution_count": 2,
   "metadata": {},
   "outputs": [],
   "source": [
    "# Read the GeoJSON file\n",
    "gi_gdf = gpd.read_file(Path.cwd() / \"WekaHills_GI_Geol.geojson\")\n",
    "location_uids = gi_gdf.location_uid.unique()"
   ]
  },
  {
   "cell_type": "code",
   "execution_count": 3,
   "metadata": {},
   "outputs": [],
   "source": [
    "bh_gdf = gi_gdf.groupby(\"location_uid\").first()\n",
    "bh_gdf = bh_gdf[~(bh_gdf[\"LocationID\"].str.endswith(\"A\"))]\n",
    "bh_gdf = bh_gdf[bh_gdf[\"LocationID\"].str.startswith(\"WH_\")]"
   ]
  },
  {
   "cell_type": "code",
   "execution_count": 4,
   "metadata": {},
   "outputs": [
    {
     "data": {
      "text/html": [
       "<div>\n",
       "<style scoped>\n",
       "    .dataframe tbody tr th:only-of-type {\n",
       "        vertical-align: middle;\n",
       "    }\n",
       "\n",
       "    .dataframe tbody tr th {\n",
       "        vertical-align: top;\n",
       "    }\n",
       "\n",
       "    .dataframe thead th {\n",
       "        text-align: right;\n",
       "    }\n",
       "</style>\n",
       "<table border=\"1\" class=\"dataframe\">\n",
       "  <thead>\n",
       "    <tr style=\"text-align: right;\">\n",
       "      <th></th>\n",
       "      <th>LocationID</th>\n",
       "      <th>from</th>\n",
       "      <th>to</th>\n",
       "      <th>Description</th>\n",
       "      <th>Simple_Lith</th>\n",
       "      <th>project_uid</th>\n",
       "      <th>location_uid</th>\n",
       "      <th>depth_to_top</th>\n",
       "      <th>depth_to_base</th>\n",
       "      <th>elevation_at_top</th>\n",
       "      <th>elevation_at_base</th>\n",
       "      <th>geometry</th>\n",
       "    </tr>\n",
       "  </thead>\n",
       "  <tbody>\n",
       "    <tr>\n",
       "      <th>0</th>\n",
       "      <td>WH_009</td>\n",
       "      <td>0.000</td>\n",
       "      <td>6.085</td>\n",
       "      <td>Weak thinly bedded brown fine-med grained sand...</td>\n",
       "      <td>Alluvium</td>\n",
       "      <td>weka-hills-boreholes</td>\n",
       "      <td>WH_009</td>\n",
       "      <td>0.000</td>\n",
       "      <td>6.085</td>\n",
       "      <td>502.881383</td>\n",
       "      <td>496.796383</td>\n",
       "      <td>LINESTRING Z (1167046.628 4888785.276 502.881,...</td>\n",
       "    </tr>\n",
       "    <tr>\n",
       "      <th>1</th>\n",
       "      <td>WH_009</td>\n",
       "      <td>6.085</td>\n",
       "      <td>50.000</td>\n",
       "      <td>Med-strong medium bedded brown sandy SILTSTONE...</td>\n",
       "      <td>Siltstone</td>\n",
       "      <td>weka-hills-boreholes</td>\n",
       "      <td>WH_009</td>\n",
       "      <td>6.085</td>\n",
       "      <td>50.000</td>\n",
       "      <td>496.796383</td>\n",
       "      <td>452.881383</td>\n",
       "      <td>LINESTRING Z (1167046.628 4888785.276 496.796,...</td>\n",
       "    </tr>\n",
       "    <tr>\n",
       "      <th>4</th>\n",
       "      <td>WH_010</td>\n",
       "      <td>0.000</td>\n",
       "      <td>5.984</td>\n",
       "      <td>Stratified gravelly sand ALLUVIUM</td>\n",
       "      <td>Alluvium</td>\n",
       "      <td>weka-hills-boreholes</td>\n",
       "      <td>WH_010</td>\n",
       "      <td>0.000</td>\n",
       "      <td>5.984</td>\n",
       "      <td>518.402100</td>\n",
       "      <td>512.418100</td>\n",
       "      <td>LINESTRING Z (1166599.321 4888570.205 518.402,...</td>\n",
       "    </tr>\n",
       "    <tr>\n",
       "      <th>5</th>\n",
       "      <td>WH_010</td>\n",
       "      <td>5.984</td>\n",
       "      <td>50.000</td>\n",
       "      <td>Med-strong medium bedded brown sandy SILTSTONE...</td>\n",
       "      <td>Siltstone</td>\n",
       "      <td>weka-hills-boreholes</td>\n",
       "      <td>WH_010</td>\n",
       "      <td>5.984</td>\n",
       "      <td>50.000</td>\n",
       "      <td>512.418100</td>\n",
       "      <td>468.402100</td>\n",
       "      <td>LINESTRING Z (1166599.321 4888570.205 512.418,...</td>\n",
       "    </tr>\n",
       "    <tr>\n",
       "      <th>9</th>\n",
       "      <td>WH_011</td>\n",
       "      <td>0.000</td>\n",
       "      <td>0.228</td>\n",
       "      <td>None</td>\n",
       "      <td>None</td>\n",
       "      <td>weka-hills-boreholes</td>\n",
       "      <td>WH_011</td>\n",
       "      <td>0.000</td>\n",
       "      <td>0.228</td>\n",
       "      <td>546.237630</td>\n",
       "      <td>546.009630</td>\n",
       "      <td>LINESTRING Z (1166184.11 4888296.167 546.238, ...</td>\n",
       "    </tr>\n",
       "  </tbody>\n",
       "</table>\n",
       "</div>"
      ],
      "text/plain": [
       "  LocationID   from      to  \\\n",
       "0     WH_009  0.000   6.085   \n",
       "1     WH_009  6.085  50.000   \n",
       "4     WH_010  0.000   5.984   \n",
       "5     WH_010  5.984  50.000   \n",
       "9     WH_011  0.000   0.228   \n",
       "\n",
       "                                         Description Simple_Lith  \\\n",
       "0  Weak thinly bedded brown fine-med grained sand...    Alluvium   \n",
       "1  Med-strong medium bedded brown sandy SILTSTONE...   Siltstone   \n",
       "4                  Stratified gravelly sand ALLUVIUM    Alluvium   \n",
       "5  Med-strong medium bedded brown sandy SILTSTONE...   Siltstone   \n",
       "9                                               None        None   \n",
       "\n",
       "            project_uid location_uid  depth_to_top  depth_to_base  \\\n",
       "0  weka-hills-boreholes       WH_009         0.000          6.085   \n",
       "1  weka-hills-boreholes       WH_009         6.085         50.000   \n",
       "4  weka-hills-boreholes       WH_010         0.000          5.984   \n",
       "5  weka-hills-boreholes       WH_010         5.984         50.000   \n",
       "9  weka-hills-boreholes       WH_011         0.000          0.228   \n",
       "\n",
       "   elevation_at_top  elevation_at_base  \\\n",
       "0        502.881383         496.796383   \n",
       "1        496.796383         452.881383   \n",
       "4        518.402100         512.418100   \n",
       "5        512.418100         468.402100   \n",
       "9        546.237630         546.009630   \n",
       "\n",
       "                                            geometry  \n",
       "0  LINESTRING Z (1167046.628 4888785.276 502.881,...  \n",
       "1  LINESTRING Z (1167046.628 4888785.276 496.796,...  \n",
       "4  LINESTRING Z (1166599.321 4888570.205 518.402,...  \n",
       "5  LINESTRING Z (1166599.321 4888570.205 512.418,...  \n",
       "9  LINESTRING Z (1166184.11 4888296.167 546.238, ...  "
      ]
     },
     "execution_count": 4,
     "metadata": {},
     "output_type": "execute_result"
    }
   ],
   "source": [
    "gi_gdf_few_bhs = gi_gdf[~(gi_gdf[\"LocationID\"].str.endswith(\"A\"))]\n",
    "gi_gdf_few_bhs = gi_gdf_few_bhs[gi_gdf_few_bhs[\"LocationID\"].str.startswith(\"WH_\")]\n",
    "gi_gdf_few_bhs.head()"
   ]
  },
  {
   "cell_type": "code",
   "execution_count": 5,
   "metadata": {},
   "outputs": [],
   "source": [
    "gi_wh009_12 = gi_gdf[gi_gdf[\"LocationID\"].isin([\"WH_009\", \"WH_012\"])]\n",
    "gi_wh009_12.to_file(\n",
    "    Path.cwd() / \"WekaHills_GI_Geol_WH009and0012.geojson\", driver=\"GeoJSON\"\n",
    ")"
   ]
  },
  {
   "cell_type": "code",
   "execution_count": 6,
   "metadata": {},
   "outputs": [],
   "source": [
    "# bh_gdf = bh_gdf.head()\n",
    "# bh_gdf.geometry = bh_gdf.geometry.apply(lambda x: x.representative_point())\n",
    "# bh_gdf.explore()"
   ]
  },
  {
   "cell_type": "code",
   "execution_count": null,
   "metadata": {},
   "outputs": [],
   "source": [
    "def int_to_usd_color(color_int):\n",
    "    # Extract RGB components\n",
    "    r = (color_int >> 24) & 255\n",
    "    g = (color_int >> 16) & 255\n",
    "    b = (color_int >> 8) & 255\n",
    "\n",
    "    # Convert to float values between 0 and 1\n",
    "    r_float = round(r / 255.0, 2)\n",
    "    g_float = round(g / 255.0, 2)\n",
    "    b_float = round(b / 255.0, 2)\n",
    "\n",
    "    return (r_float, g_float, b_float)"
   ]
  },
  {
   "cell_type": "code",
   "execution_count": 8,
   "metadata": {},
   "outputs": [
    {
     "name": "stdout",
     "output_type": "stream",
     "text": [
      "alluvium: (1.0, 0.3, 0.6)\n",
      "siltstone: (1.0, 0.52, 0.18)\n",
      "basement: (1.0, 1.0, 0.84)\n"
     ]
    }
   ],
   "source": [
    "geol_colors = {\n",
    "    \"alluvium\": 4283210099,\n",
    "    \"siltstone\": 4286918599,\n",
    "    \"basement\": 4294956293,\n",
    "}\n",
    "\n",
    "for key, val in geol_colors.items():\n",
    "    print(f\"{key}: {int_to_usd_color(val)}\")"
   ]
  }
 ],
 "metadata": {
  "kernelspec": {
   "display_name": ".venv",
   "language": "python",
   "name": "python3"
  },
  "language_info": {
   "codemirror_mode": {
    "name": "ipython",
    "version": 3
   },
   "file_extension": ".py",
   "mimetype": "text/x-python",
   "name": "python",
   "nbconvert_exporter": "python",
   "pygments_lexer": "ipython3",
   "version": "3.11.10"
  }
 },
 "nbformat": 4,
 "nbformat_minor": 2
}
